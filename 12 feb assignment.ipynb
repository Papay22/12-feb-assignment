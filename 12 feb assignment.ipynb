{
 "cells": [
  {
   "cell_type": "code",
   "execution_count": null,
   "id": "0bfa4776-bce4-48fe-ba36-e230363a42b1",
   "metadata": {},
   "outputs": [],
   "source": [
    "Q1. An exception in Python is an error that occurs during the execution of a program. The difference between exceptions and syntax errors is that syntax errors occur when the code does not conform to the language's syntax rules, while exceptions occur when the code is syntactically correct but encounters a problem during execution.\n",
    "\n"
   ]
  },
  {
   "cell_type": "code",
   "execution_count": null,
   "id": "6ed44d2a-d2cc-49d5-867e-102c4e0a8d6f",
   "metadata": {},
   "outputs": [],
   "source": [
    "Q2. When an exception is not handled, the program will terminate abruptly and an error message will be displayed. For example, if a program tries to divide a number by zero, an exception will be raised and the program will terminate with an error message."
   ]
  },
  {
   "cell_type": "code",
   "execution_count": null,
   "id": "434de19f-94fa-465d-9798-179d347d7a0f",
   "metadata": {},
   "outputs": [],
   "source": [
    "Q3. The try and except statements are used to catch and handle exceptions in Python. For example, if a program tries to open a file that does not exist, an exception will be raised and the program can use the try and except statements to catch this exception and display an appropriate error message.\n",
    "\n"
   ]
  },
  {
   "cell_type": "code",
   "execution_count": null,
   "id": "7f762969-2eb2-42a4-8aee-10d7ba119343",
   "metadata": {},
   "outputs": [],
   "source": [
    "Q4. The try statement is used to execute code that may raise an exception. If an exception occurs, the except statement is used to handle the exception. The finally statement is used to execute code regardless of whether or not an exception occurs. For example, if a program tries to open a file, the try statement can be used to execute the code that opens the file, the except statement can be used to handle any exceptions that occur while opening the file, and the finally statement can be used to close the file regardless of whether or not an exception occurred.\n",
    "\n"
   ]
  },
  {
   "cell_type": "code",
   "execution_count": null,
   "id": "aea2958f-ad80-468b-bc74-9e1d9e838cf5",
   "metadata": {},
   "outputs": [],
   "source": [
    "Q5. Custom Exceptions in Python are user-defined exceptions that can be created for specific purposes. They are needed when a program needs to handle specific errors in a specific way, such as displaying a custom error message or performing certain actions when an error occurs. For example, if a program needs to check if a user has entered a valid email address, it can create a custom exception for this purpose and raise it when an invalid email address is entered."
   ]
  },
  {
   "cell_type": "code",
   "execution_count": null,
   "id": "9d2e304f-75d8-4df0-83c0-743a1e01918d",
   "metadata": {},
   "outputs": [],
   "source": [
    "Q6. Here is an example of creating a custom exception class and using it to handle an exception:\n",
    "\n",
    "\n",
    "class MyCustomException(Exception):\n",
    "\n",
    "def init(self, message):\n",
    "\n",
    "self.message = message\n",
    "\n",
    "\n",
    "try:\n",
    "\n",
    "some code here\n",
    "raise MyCustomException(\"This is my custom exception\")\n",
    "\n",
    "except MyCustomException as e:\n",
    "\n",
    "print(e)"
   ]
  }
 ],
 "metadata": {
  "kernelspec": {
   "display_name": "Python 3 (ipykernel)",
   "language": "python",
   "name": "python3"
  },
  "language_info": {
   "codemirror_mode": {
    "name": "ipython",
    "version": 3
   },
   "file_extension": ".py",
   "mimetype": "text/x-python",
   "name": "python",
   "nbconvert_exporter": "python",
   "pygments_lexer": "ipython3",
   "version": "3.10.8"
  }
 },
 "nbformat": 4,
 "nbformat_minor": 5
}
